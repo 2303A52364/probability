{
  "nbformat": 4,
  "nbformat_minor": 0,
  "metadata": {
    "colab": {
      "provenance": []
    },
    "kernelspec": {
      "name": "python3",
      "display_name": "Python 3"
    },
    "language_info": {
      "name": "python"
    }
  },
  "cells": [
    {
      "cell_type": "markdown",
      "source": [
        "A survey conducted by a local economics department claims that the average monthly cost of living for a single person in Hyderabad is ₹30,000. You want to test this claim using a sample of monthly living costs for 15 people in the city. You have collected this data as [25000, 31000, 20000, 28000, 29500, 32000, 21000, 30500, 27000, 28500, 30000, 23000, 31000, 26000, 29500]. Your goal is to determine whether the actual average cost of living is significantly different from the claimed value of ₹30,000.\n",
        "Your task is to:\n",
        "\n",
        "1.Compute the sample mean and standard deviation of the monthly living costs.\n",
        "\n",
        "2.Calculate the 95% confidence interval for the sample mean.\n",
        "\n",
        "3.Use the confidence interval to assess the hypothesis test.\n"
      ],
      "metadata": {
        "id": "dZmaejQRtXhq"
      }
    },
    {
      "cell_type": "code",
      "execution_count": 1,
      "metadata": {
        "colab": {
          "base_uri": "https://localhost:8080/"
        },
        "id": "vnLSKNFstRYm",
        "outputId": "b9b92b37-5095-4e34-b1d3-bf31ab8895d8"
      },
      "outputs": [
        {
          "output_type": "stream",
          "name": "stdout",
          "text": [
            "Sample Mean: ₹27466.67\n",
            "Sample Standard Deviation: ₹3748.65\n",
            "95% Confidence Interval: ₹25390.73 to ₹29542.60\n",
            "Hypothesis Test Decision: Reject H₀: Significant difference from ₹30,000.\n"
          ]
        }
      ],
      "source": [
        "import numpy as np\n",
        "import scipy.stats as stats\n",
        "\n",
        "# Given sample data (monthly living costs in ₹)\n",
        "data = [25000, 31000, 20000, 28000, 29500, 32000, 21000, 30500, 27000, 28500, 30000, 23000, 31000, 26000, 29500]\n",
        "\n",
        "# Step 1: Compute sample statistics\n",
        "sample_mean = np.mean(data)  # Sample mean\n",
        "sample_std = np.std(data, ddof=1)  # Sample standard deviation (unbiased estimator)\n",
        "n = len(data)  # Sample size\n",
        "\n",
        "# Step 2: Compute the 95% Confidence Interval\n",
        "confidence_level = 0.95\n",
        "alpha = 1 - confidence_level  # Significance level\n",
        "t_critical = stats.t.ppf(1 - alpha/2, df=n-1)  # t-critical value for two-tailed test\n",
        "\n",
        "# Margin of Error\n",
        "margin_of_error = t_critical * (sample_std / np.sqrt(n))\n",
        "confidence_interval = (sample_mean - margin_of_error, sample_mean + margin_of_error)\n",
        "\n",
        "# Step 3: Hypothesis Test Assessment\n",
        "hypothesized_mean = 30000\n",
        "if hypothesized_mean >= confidence_interval[0] and hypothesized_mean <= confidence_interval[1]:\n",
        "    decision = \"Fail to reject H₀: No significant difference from ₹30,000.\"\n",
        "else:\n",
        "    decision = \"Reject H₀: Significant difference from ₹30,000.\"\n",
        "\n",
        "# Print results\n",
        "print(f\"Sample Mean: ₹{sample_mean:.2f}\")\n",
        "print(f\"Sample Standard Deviation: ₹{sample_std:.2f}\")\n",
        "print(f\"95% Confidence Interval: ₹{confidence_interval[0]:.2f} to ₹{confidence_interval[1]:.2f}\")\n",
        "print(f\"Hypothesis Test Decision: {decision}\")\n"
      ]
    }
  ]
}