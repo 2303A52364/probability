{
  "nbformat": 4,
  "nbformat_minor": 0,
  "metadata": {
    "colab": {
      "provenance": []
    },
    "kernelspec": {
      "name": "python3",
      "display_name": "Python 3"
    },
    "language_info": {
      "name": "python"
    }
  },
  "cells": [
    {
      "cell_type": "markdown",
      "source": [
        " question 1\n",
        "\n",
        " A researcher wants to compare the average daily water intake (in liters) of two types of individuals:\n",
        "\n",
        "Group A: Individuals who follow a strict hydration regimen.\n",
        "\n",
        "Group B: Individuals who do not follow any specific hydration regimen.\n",
        "\n",
        "The researcher wants to know if there is a significant difference in the average water intake per day between the two groups. The data for the daily water intake (in liters) for each group is as follows:\n",
        "\n",
        "Group A (Hydration Regimen Followers) : [2.8, 3.1, 3.0, 2.5, 3.2, 3.0, 3.3, 2.7, 2.9, 3.0]\n",
        "\n",
        "Group B (Non-Followers of Hydration Regimen) : [1.5, 1.7, 1.6, 1.9, 2.0, 1.8, 1.7, 1.6, 1.8, 1.5]\n",
        "\n",
        "The researcher will use a two-sample independent t-test to compare the average daily water intake between the two groups and determine if there is a significant difference."
      ],
      "metadata": {
        "id": "p_gRQC9JwNFP"
      }
    },
    {
      "cell_type": "code",
      "execution_count": 1,
      "metadata": {
        "colab": {
          "base_uri": "https://localhost:8080/"
        },
        "id": "nkRLiI-fwFvZ",
        "outputId": "e9367414-aa22-4511-d811-756292f13d9c"
      },
      "outputs": [
        {
          "output_type": "stream",
          "name": "stdout",
          "text": [
            "T-Statistic: 13.547440957563675\n",
            "P-Value: 6.995490069303675e-11\n",
            "There is a significant difference in average daily water intake between the two groups.\n"
          ]
        }
      ],
      "source": [
        "import scipy.stats as stats\n",
        "\n",
        "# Data for each group\n",
        "group_A = [2.8, 3.1, 3.0, 2.5, 3.2, 3.0, 3.3, 2.7, 2.9, 3.0]\n",
        "group_B = [1.5, 1.7, 1.6, 1.9, 2.0, 1.8, 1.7, 1.6, 1.8, 1.5]\n",
        "\n",
        "# Perform the two-sample independent t-test\n",
        "t_statistic, p_value = stats.ttest_ind(group_A, group_B)\n",
        "\n",
        "# Print the results\n",
        "print(\"T-Statistic:\", t_statistic)\n",
        "print(\"P-Value:\", p_value)\n",
        "\n",
        "# Determine significance\n",
        "alpha = 0.05  # Level of significance\n",
        "if p_value < alpha:\n",
        "    print(\"There is a significant difference in average daily water intake between the two groups.\")\n",
        "else:\n",
        "    print(\"There is no significant difference in average daily water intake between the two groups.\")\n"
      ]
    },
    {
      "cell_type": "markdown",
      "source": [
        "question 2\n",
        "\n",
        "A person wants to compare the average number of hours spent exercising per week for two groups of individuals:\n",
        "\n",
        "Group A: Individuals who follow a daily workout routine.\n",
        "\n",
        "Group B: Individuals who do not follow a regular workout routine.\n",
        "\n",
        "The person wants to know if there is a significant difference in the average number of hours spent exercising per week between the two groups. The data for the number of hours spent exercising per week for each group is as follows:\n",
        "\n",
        "Group A (Daily Workout Routine):\n",
        "7, 8, 6, 9, 10, 8, 7, 6, 8, 9\n",
        "\n",
        "Group B (No Regular Workout Routine):\n",
        "3, 4, 2, 3, 5, 4, 3, 2, 4, 3\n",
        "\n",
        "The person will use a two-sample independent t-test to compare the average number of hours spent exercising per week between the two groups and determine if there is a significant difference"
      ],
      "metadata": {
        "id": "CJUMGMq_wr9-"
      }
    },
    {
      "cell_type": "code",
      "source": [
        "import scipy.stats as stats\n",
        "\n",
        "# Data for each group\n",
        "group_A = [7, 8, 6, 9, 10, 8, 7, 6, 8, 9]  # Daily Workout Routine\n",
        "group_B = [3, 4, 2, 3, 5, 4, 3, 2, 4, 3]   # No Regular Workout Routine\n",
        "\n",
        "# Perform the two-sample independent t-test\n",
        "t_statistic, p_value = stats.ttest_ind(group_A, group_B)\n",
        "\n",
        "# Print the results\n",
        "print(\"T-Statistic:\", t_statistic)\n",
        "print(\"P-Value:\", p_value)\n",
        "\n",
        "# Determine significance\n",
        "alpha = 0.05  # Level of significance\n",
        "if p_value < alpha:\n",
        "    print(\"There is a significant difference in average hours spent exercising per week between the two groups.\")\n",
        "else:\n",
        "    print(\"There is no significant difference in average hours spent exercising per week between the two groups.\")\n"
      ],
      "metadata": {
        "colab": {
          "base_uri": "https://localhost:8080/"
        },
        "id": "n6B97MaNxE3G",
        "outputId": "09514283-5e1b-4e63-852b-24377c30d492"
      },
      "execution_count": 2,
      "outputs": [
        {
          "output_type": "stream",
          "name": "stdout",
          "text": [
            "T-Statistic: 8.769192333232017\n",
            "P-Value: 6.472889338915934e-08\n",
            "There is a significant difference in average hours spent exercising per week between the two groups.\n"
          ]
        }
      ]
    },
    {
      "cell_type": "markdown",
      "source": [
        "An individual wants to compare the average number of hours spent reading books per week by two groups of people:\n",
        "\n",
        "• Group X: People who read books regularly.\n",
        "\n",
        "• Group Y: People who do not read books regularly.\n",
        "\n",
        "The individual wants to know if there is a significant difference in the average number of hours spent reading books per week between the two groups. The data for the number of hours spent reading books per week for each group is as follows:\n",
        "\n",
        "Group X (Regular Book Readers)\n",
        "4, 5, 6, 3, 5, 6, 4, 5, 7, 6\n",
        "\n",
        "Group Y (Non-Regular Book Readers)\n",
        "1, 2, 3, 2, 1, 4, 2, 1, 3, 2\n",
        "\n",
        "The researcher will use a two-sample independent t-test to compare the average number of hours spent reading books per week between the two groups and determine if there is a significant difference"
      ],
      "metadata": {
        "id": "b7m6JM-pxa1p"
      }
    },
    {
      "cell_type": "code",
      "source": [
        "import scipy.stats as stats\n",
        "\n",
        "# Data for each group\n",
        "group_X = [4, 5, 6, 3, 5, 6, 4, 5, 7, 6]  # Regular Book Readers\n",
        "group_Y = [1, 2, 3, 2, 1, 4, 2, 1, 3, 2]  # Non-Regular Book Readers\n",
        "\n",
        "# Perform the two-sample independent t-test\n",
        "t_statistic, p_value = stats.ttest_ind(group_X, group_Y)\n",
        "\n",
        "# Print the results\n",
        "print(\"T-Statistic:\", t_statistic)\n",
        "print(\"P-Value:\", p_value)\n",
        "\n",
        "# Determine significance\n",
        "alpha = 0.05  # Level of significance\n",
        "if p_value < alpha:\n",
        "    print(\"There is a significant difference in average hours spent reading books per week between the two groups.\")\n",
        "else:\n",
        "    print(\"There is no significant difference in average hours spent reading books per week between the two groups.\")\n"
      ],
      "metadata": {
        "colab": {
          "base_uri": "https://localhost:8080/"
        },
        "id": "J5U1rkCyyT9g",
        "outputId": "3efc1d27-73e9-4250-f339-b5299fcd1246"
      },
      "execution_count": 3,
      "outputs": [
        {
          "output_type": "stream",
          "name": "stdout",
          "text": [
            "T-Statistic: 6.095569153307365\n",
            "P-Value: 9.27205847240625e-06\n",
            "There is a significant difference in average hours spent reading books per week between the two groups.\n"
          ]
        }
      ]
    }
  ]
}