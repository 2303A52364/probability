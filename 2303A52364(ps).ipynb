{
  "nbformat": 4,
  "nbformat_minor": 0,
  "metadata": {
    "colab": {
      "provenance": []
    },
    "kernelspec": {
      "name": "python3",
      "display_name": "Python 3"
    },
    "language_info": {
      "name": "python"
    }
  },
  "cells": [
    {
      "cell_type": "markdown",
      "source": [
        "q 1\n",
        "Find the mean of 85,92,78,89,95,87,90 using python programming\n",
        "\n",
        "\n"
      ],
      "metadata": {
        "id": "yXjD6_BvO053"
      }
    },
    {
      "cell_type": "code",
      "execution_count": null,
      "metadata": {
        "colab": {
          "base_uri": "https://localhost:8080/"
        },
        "id": "zY7LjHsKOwWN",
        "outputId": "76d8ae61-ec51-492b-a4d7-715ab7943a8a"
      },
      "outputs": [
        {
          "output_type": "stream",
          "name": "stdout",
          "text": [
            "Mean: 88.0\n"
          ]
        }
      ],
      "source": [
        "data = [85, 92, 78, 89, 95, 87, 90]\n",
        "mean = sum(data) / len(data)\n",
        "print(\"Mean:\", mean)"
      ]
    },
    {
      "cell_type": "markdown",
      "source": [
        " q2\n",
        " #The following frequency table giving the ages of membrrs of a symphony orchestra for young adults\n",
        "\n",
        " #age      15  16  17  18  19  20\n",
        " #frequency 2    5  11  9   14  13\n",
        " #find the sample mean of the ages of the 54"
      ],
      "metadata": {
        "id": "KlKlyiQhRg9k"
      }
    },
    {
      "cell_type": "code",
      "source": [
        "#values nd frequencies, creating tqo lists\n",
        "values = {15,16,17,18,19,20}\n",
        "frequencies = {2,5,11,9,14 ,13}\n",
        "\n",
        "#calculate the sum of f*x\n",
        "sum_fx = sum(f*x for f, x in zip(frequencies,values))\n",
        "\n",
        "#sum of frequencies\n",
        "sum_f = sum(frequencies)\n",
        "\n",
        "#calculate the mean\n",
        "mean = (sum_fx)/sum_f\n",
        "\n",
        "print(\"mean of the frequency in distribution: \",mean)"
      ],
      "metadata": {
        "colab": {
          "base_uri": "https://localhost:8080/"
        },
        "id": "wQRIfkt9SQcS",
        "outputId": "53185b2a-190d-49b5-ddbb-a5a39db7365f"
      },
      "execution_count": null,
      "outputs": [
        {
          "output_type": "stream",
          "name": "stdout",
          "text": [
            "mean of the frequency in distribution:  17.74074074074074\n"
          ]
        }
      ]
    },
    {
      "cell_type": "markdown",
      "source": [
        "q3 now for interval\n",
        "\n",
        "marks :       0-10   10-20  20-30  30-40  40-50  50-60\n",
        "\n",
        "no.of students:12     18     27    20      17     6"
      ],
      "metadata": {
        "id": "wOecj3pgSmh6"
      }
    },
    {
      "cell_type": "code",
      "source": [
        "no_of_intervals = [{0,10},{10,20},{20,30},{30,40},{40,50},{50,60}]\n",
        "frequencies1    = [12,18,27,20,17,6]\n",
        "#calc mid points\n",
        "mid_points = [(start+end)/2 for start,end in no_of_intervals]\n",
        "# f*x\n",
        "sum_fm = sum(f*m for f, m in zip(frequencies1,mid_points))\n",
        "#sum of f\n",
        "sum_f = sum(frequencies1)\n",
        "#mean\n",
        "mean = (sum_fm)/(sum_f)\n",
        "#print\n",
        "print(\"mean:\",mean)"
      ],
      "metadata": {
        "colab": {
          "base_uri": "https://localhost:8080/"
        },
        "id": "uhWs2StUZruk",
        "outputId": "378a1ef8-ce1c-4c83-c4c2-1de67923fdcf"
      },
      "execution_count": null,
      "outputs": [
        {
          "output_type": "stream",
          "name": "stdout",
          "text": [
            "mean: 28.0\n"
          ]
        }
      ]
    },
    {
      "cell_type": "markdown",
      "source": [
        "q4 find the median\n",
        "\n",
        "data = [3,13,7,5,21,23,39,23,40,23,14,12,56,23,29]\n",
        "\n"
      ],
      "metadata": {
        "id": "1IibYz9YasXP"
      }
    },
    {
      "cell_type": "code",
      "source": [
        "#q4find the median\n",
        "data = [3,13,7,5,21,23,39,23,40,23,14,12,56,23,29]\n",
        "\n",
        "#sort the data, ascending\n",
        "data_sorted = sorted(data)\n",
        "\n",
        "#find the middle index\n",
        "middle_index = len(data_sorted)// 2\n",
        "print(middle_index)\n",
        "\n",
        "#get the median\n",
        "median = data_sorted[middle_index]\n",
        "\n",
        "print(\"median:\", median)"
      ],
      "metadata": {
        "colab": {
          "base_uri": "https://localhost:8080/"
        },
        "id": "s39b3KiSas5j",
        "outputId": "7b2b8bc2-c3bb-45cc-9510-abbe9cc391be"
      },
      "execution_count": null,
      "outputs": [
        {
          "output_type": "stream",
          "name": "stdout",
          "text": [
            "7\n",
            "median: 23\n"
          ]
        }
      ]
    },
    {
      "cell_type": "markdown",
      "source": [
        "q 5\n",
        "\n",
        "Find the Median of (3,13,7,5,21,23,23,40,23,14,12,56,23,29)"
      ],
      "metadata": {
        "id": "Y44O6xpoa73V"
      }
    },
    {
      "cell_type": "code",
      "source": [
        "data=[3,13,7,5,21,23,23,40,23,14,12,56,23,29]\n",
        "data_sorted=sorted(data)\n",
        "middle_index1=len(data_sorted)//2-1\n",
        "middle_index2=len(data_sorted)//2\n",
        "median=(data_sorted[middle_index1]+data_sorted[middle_index2])/2\n",
        "print(\"Median of the sample data is:\" ,median)\n",
        "\n"
      ],
      "metadata": {
        "colab": {
          "base_uri": "https://localhost:8080/"
        },
        "id": "IxHL9IjJe0gu",
        "outputId": "268bc151-0e23-48d4-d592-f2ba24e2f3fd"
      },
      "execution_count": null,
      "outputs": [
        {
          "output_type": "stream",
          "name": "stdout",
          "text": [
            "Median of the sample data is: 22.0\n"
          ]
        }
      ]
    }
  ]
}